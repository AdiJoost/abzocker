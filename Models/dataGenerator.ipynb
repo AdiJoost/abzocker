{
 "cells": [
  {
   "cell_type": "code",
   "execution_count": 44,
   "metadata": {},
   "outputs": [],
   "source": [
    "from keras.utils import timeseries_dataset_from_array\n",
    "from sklearn.preprocessing import MinMaxScaler\n",
    "import pandas as pd\n",
    "import numpy as np\n",
    "import os\n",
    "from targetTypeEnum import TargetType\n",
    "from modelGenerator import _loadData"
   ]
  },
  {
   "cell_type": "code",
   "execution_count": 4,
   "metadata": {},
   "outputs": [
    {
     "name": "stdout",
     "output_type": "stream",
     "text": [
      "                  Date  Adj Close      Close       High        Low       Open  \\\n",
      "0  1262563200000000000  53.295406  83.019997  83.449997  82.669998  83.089996   \n",
      "1  1262649600000000000  52.961578  82.500000  83.230003  81.699997  82.800003   \n",
      "2  1262736000000000000  53.712673  83.669998  84.599998  83.510002  83.879997   \n",
      "3  1262822400000000000  53.751194  83.730003  83.760002  82.120003  83.320000   \n",
      "4  1262908800000000000  54.129929  84.320000  84.320000  83.300003  83.690002   \n",
      "\n",
      "      Volume  \n",
      "0  3043700.0  \n",
      "1  2847000.0  \n",
      "2  5268500.0  \n",
      "3  4470100.0  \n",
      "4  3405800.0  \n"
     ]
    }
   ],
   "source": [
    "data = _loadData()"
   ]
  },
  {
   "cell_type": "code",
   "execution_count": 5,
   "metadata": {},
   "outputs": [
    {
     "name": "stdout",
     "output_type": "stream",
     "text": [
      "28\n",
      "7\n"
     ]
    }
   ],
   "source": [
    "numberOfDatapointsForPrediction = 10\n",
    "inputData = data[:-1]\n",
    "targets = data[numberOfDatapointsForPrediction:][TargetType.CLOSE.value]\n",
    "inputDataWindow = timeseries_dataset_from_array(inputData, targets=None, sequence_length=numberOfDatapointsForPrediction)\n",
    "print(len(inputDataWindow))\n",
    "print(len(targets))"
   ]
  },
  {
   "cell_type": "code",
   "execution_count": 25,
   "metadata": {},
   "outputs": [],
   "source": [
    "generatedTimeseries = timeseries_dataset_from_array(data, targets=None, batch_size=None, sequence_length=10+1)"
   ]
  },
  {
   "cell_type": "markdown",
   "metadata": {},
   "source": []
  },
  {
   "cell_type": "code",
   "execution_count": 50,
   "metadata": {},
   "outputs": [],
   "source": [
    "X = np.zeros((len(generatedTimeseries), 10, 7))\n",
    "Y = np.zeros((len(generatedTimeseries), 1, 1))"
   ]
  },
  {
   "cell_type": "code",
   "execution_count": 51,
   "metadata": {},
   "outputs": [],
   "source": [
    "for i, batch in enumerate(generatedTimeseries):\n",
    "    X[i,:,:] = batch[:-1,:]\n",
    "    Y[i,:,:] = batch[-1,1]"
   ]
  },
  {
   "cell_type": "code",
   "execution_count": 36,
   "metadata": {},
   "outputs": [],
   "source": [
    "for batch in generatedTimeseries:\n",
    "    X.append(batch[:-1,:])\n",
    "    Y.append(batch[-1,1])"
   ]
  },
  {
   "cell_type": "code",
   "execution_count": 52,
   "metadata": {},
   "outputs": [
    {
     "name": "stdout",
     "output_type": "stream",
     "text": [
      "3563\n",
      "3563\n"
     ]
    }
   ],
   "source": [
    "print(len(X))\n",
    "print(len(Y))"
   ]
  },
  {
   "cell_type": "code",
   "execution_count": 53,
   "metadata": {},
   "outputs": [
    {
     "name": "stdout",
     "output_type": "stream",
     "text": [
      "[[1.26256320e+18 5.32954063e+01 8.30199966e+01 8.34499969e+01\n",
      "  8.26699982e+01 8.30899963e+01 3.04370000e+06]\n",
      " [1.26264960e+18 5.29615784e+01 8.25000000e+01 8.32300034e+01\n",
      "  8.16999969e+01 8.28000031e+01 2.84700000e+06]\n",
      " [1.26273600e+18 5.37126732e+01 8.36699982e+01 8.45999985e+01\n",
      "  8.35100021e+01 8.38799973e+01 5.26850000e+06]\n",
      " [1.26282240e+18 5.37511940e+01 8.37300034e+01 8.37600021e+01\n",
      "  8.21200027e+01 8.33199997e+01 4.47010000e+06]\n",
      " [1.26290880e+18 5.41299286e+01 8.43199997e+01 8.43199997e+01\n",
      "  8.33000031e+01 8.36900024e+01 3.40580000e+06]\n",
      " [1.26316800e+18 5.39116821e+01 8.39800034e+01 8.45999985e+01\n",
      "  8.34100037e+01 8.43799973e+01 2.92710000e+06]\n",
      " [1.26325440e+18 5.39566307e+01 8.40500031e+01 8.41800003e+01\n",
      "  8.33000031e+01 8.35800018e+01 3.03180000e+06]\n",
      " [1.26334080e+18 5.37832603e+01 8.37799988e+01 8.41100006e+01\n",
      "  8.31999969e+01 8.41100006e+01 3.10200000e+06]\n",
      " [1.26342720e+18 5.36035423e+01 8.35000000e+01 8.39300003e+01\n",
      "  8.34199982e+01 8.37399979e+01 2.63410000e+06]\n",
      " [1.26351360e+18 5.35200577e+01 8.33700027e+01 8.40899963e+01\n",
      "  8.28700027e+01 8.35199966e+01 3.95500000e+06]]\n"
     ]
    }
   ],
   "source": [
    "print(X[0])"
   ]
  },
  {
   "cell_type": "code",
   "execution_count": 54,
   "metadata": {},
   "outputs": [
    {
     "data": {
      "text/plain": [
       "array([[54.64350891]])"
      ]
     },
     "execution_count": 54,
     "metadata": {},
     "output_type": "execute_result"
    }
   ],
   "source": [
    "Y[0]"
   ]
  },
  {
   "cell_type": "code",
   "execution_count": 55,
   "metadata": {},
   "outputs": [],
   "source": [
    "def _getSavePath(filename):\n",
    "    cwd = os.getcwd()\n",
    "    head = cwd.split(\"abzocker\")\n",
    "    if len(head) < 1:\n",
    "        raise NameError(\"Cannot get the working Path. Look at Source Code and Debug. :/\")\n",
    "    return os.path.join(head[0], \"abzocker\", \"generatedData\", \"timeSeries\", filename)\n"
   ]
  },
  {
   "cell_type": "code",
   "execution_count": 56,
   "metadata": {},
   "outputs": [],
   "source": [
    "y = np.load(_getSavePath(\"Y_coolFile.npy\"))"
   ]
  },
  {
   "cell_type": "code",
   "execution_count": 57,
   "metadata": {},
   "outputs": [
    {
     "data": {
      "text/plain": [
       "array([ 80.43000031,  81.5       ,  79.20999908, ...,  98.72000122,\n",
       "       104.06999969, 103.12000275])"
      ]
     },
     "execution_count": 57,
     "metadata": {},
     "output_type": "execute_result"
    }
   ],
   "source": [
    "y"
   ]
  },
  {
   "cell_type": "code",
   "execution_count": null,
   "metadata": {},
   "outputs": [],
   "source": []
  }
 ],
 "metadata": {
  "kernelspec": {
   "display_name": "abzocker",
   "language": "python",
   "name": "python3"
  },
  "language_info": {
   "codemirror_mode": {
    "name": "ipython",
    "version": 3
   },
   "file_extension": ".py",
   "mimetype": "text/x-python",
   "name": "python",
   "nbconvert_exporter": "python",
   "pygments_lexer": "ipython3",
   "version": "3.12.2"
  }
 },
 "nbformat": 4,
 "nbformat_minor": 2
}
